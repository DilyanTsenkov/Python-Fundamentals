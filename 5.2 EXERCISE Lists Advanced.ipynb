{
 "cells": [
  {
   "cell_type": "markdown",
   "metadata": {},
   "source": [
    "09.10.2020 EXERCISE:"
   ]
  },
  {
   "cell_type": "markdown",
   "metadata": {},
   "source": [
    "# Lists Advanced"
   ]
  },
  {
   "cell_type": "markdown",
   "metadata": {},
   "source": [
    "## 1.\tWhich Are In?"
   ]
  },
  {
   "cell_type": "markdown",
   "metadata": {},
   "source": [
    "Given two lists of strings print a new list of the strings that contains words from the first list which are substrings of any of the strings in the second list (only unique values)"
   ]
  },
  {
   "cell_type": "markdown",
   "metadata": {},
   "source": [
    "### Input"
   ]
  },
  {
   "cell_type": "markdown",
   "metadata": {},
   "source": [
    "There will be 2 lines of input: the two lists separated by \", \""
   ]
  },
  {
   "cell_type": "markdown",
   "metadata": {},
   "source": [
    "### Output"
   ]
  },
  {
   "cell_type": "markdown",
   "metadata": {},
   "source": [
    "Print the resulting list on the console"
   ]
  },
  {
   "cell_type": "code",
   "execution_count": 1,
   "metadata": {},
   "outputs": [
    {
     "name": "stdout",
     "output_type": "stream",
     "text": [
      "arp, live, strong\n",
      "lively, alive, harp, sharp, armstrong\n",
      "['arp', 'live', 'strong']\n"
     ]
    }
   ],
   "source": [
    "first_list = input().split(\", \")\n",
    "second_list = input().split(\", \")\n",
    "\n",
    "unique_values_list = []\n",
    "\n",
    "for el in first_list:\n",
    "    for k in second_list:\n",
    "        if k.find(el) >= 0 and el not in unique_values_list:\n",
    "            unique_values_list.append(el)\n",
    "\n",
    "print(unique_values_list)"
   ]
  },
  {
   "cell_type": "markdown",
   "metadata": {},
   "source": [
    "## 2.\tBig Numbers Lover"
   ]
  },
  {
   "cell_type": "markdown",
   "metadata": {},
   "source": [
    "You really like big numbers, so you always find a way to form one from numbers given to you"
   ]
  },
  {
   "cell_type": "markdown",
   "metadata": {},
   "source": [
    "You will receive a single line containing numbers separated by a single space. Form the biggest number possible from them by sorting them as strings."
   ]
  },
  {
   "cell_type": "code",
   "execution_count": 2,
   "metadata": {},
   "outputs": [
    {
     "name": "stdout",
     "output_type": "stream",
     "text": [
      "3 30 34 5 9\n",
      "9534303\n"
     ]
    }
   ],
   "source": [
    "numbers = input().split()\n",
    "\n",
    "numbers.sort(reverse=True)\n",
    "\n",
    "print(\"\".join(numbers))"
   ]
  },
  {
   "cell_type": "markdown",
   "metadata": {},
   "source": [
    "## 3.\tNext Version"
   ]
  },
  {
   "cell_type": "markdown",
   "metadata": {},
   "source": [
    "You're fed up about changing the version of your software manually. Instead, you will create a little script that will make it for you."
   ]
  },
  {
   "cell_type": "markdown",
   "metadata": {},
   "source": [
    "You will be given a version as in this example: \"1.3.4\". You have to find the next version and print it (\"1.3.5\" from the example). The only rule is that the numbers cannot be greater than 9. If that happens, set the current number to 0 and increase the number before it. For more clarification, see the examples. Note: there will be no case where the first number will get greater than 9"
   ]
  },
  {
   "cell_type": "code",
   "execution_count": 3,
   "metadata": {},
   "outputs": [
    {
     "name": "stdout",
     "output_type": "stream",
     "text": [
      "3.9.9\n",
      "4.0.0\n"
     ]
    }
   ],
   "source": [
    "version = input().split(\".\")\n",
    "\n",
    "version_str = \"\".join(version)\n",
    "version_int = int(version_str) + 1\n",
    "version_str = \".\".join(str(version_int))\n",
    "\n",
    "print(version_str)"
   ]
  },
  {
   "cell_type": "markdown",
   "metadata": {},
   "source": [
    "## 4.\tOffice Chairs"
   ]
  },
  {
   "cell_type": "markdown",
   "metadata": {},
   "source": [
    "So you've found a meeting room - phew! You arrive there ready to present, and find that someone has taken one or more of the chairs!! You need to find some quick.... check all the other meeting rooms to see if all of the chairs are in use."
   ]
  },
  {
   "cell_type": "markdown",
   "metadata": {},
   "source": [
    "You will be given a number n representing how many rooms there are. On the next n lines for each room you will get how many chairs there are and how many of them will be taken. The chairs will be represented by \"X\"s, then there will be a space \" \" and a number representing the taken places. Example: \"XXXXX 4\" (5 chairs and 1 of them is left free). Keep track of the free chairs, you will need them later. However if you get to a room where there are more people than chairs, print the following message: \"{needed_chairs_in_room} more chairs needed in room {number_of_room}\". If there is enough chairs in each room print: \"Game On, {total_free_chairs} free chairs left\""
   ]
  },
  {
   "cell_type": "code",
   "execution_count": 5,
   "metadata": {},
   "outputs": [
    {
     "name": "stdout",
     "output_type": "stream",
     "text": [
      "4\n",
      "XXXX 4\n",
      "XX 1\n",
      "XXXXXX 3\n",
      "XXX 3\n",
      "Game On, 4 free chairs left\n"
     ]
    }
   ],
   "source": [
    "rooms = int(input())\n",
    "\n",
    "all_chairs = 0\n",
    "all_people = 0\n",
    "\n",
    "for room in range(1, rooms + 1):\n",
    "    chairs, people = input().split()\n",
    "    chairs = len(chairs)\n",
    "    difference = abs(int(people) - int(chairs))\n",
    "\n",
    "    if int(people) > int(chairs):\n",
    "        print(f\"{difference} more chairs needed in room {room}\")\n",
    "\n",
    "    all_chairs += int(chairs)\n",
    "    all_people += int(people)\n",
    "\n",
    "if all_chairs >= all_people:\n",
    "    print(f\"Game On, {all_chairs - all_people} free chairs left\")"
   ]
  },
  {
   "cell_type": "markdown",
   "metadata": {},
   "source": [
    "## 5.\tElectron Distribution"
   ]
  },
  {
   "cell_type": "markdown",
   "metadata": {},
   "source": [
    "You are a mad scientist and you decided to play with electron distribution among atom's shells. You know that basic idea of electron distribution is that electrons should fill a shell until it's holding the maximum number of electrons."
   ]
  },
  {
   "cell_type": "markdown",
   "metadata": {},
   "source": [
    "The rules for electron distribution are as follows:\n",
    "- Maximum number of electrons in a shell is distributed with a rule of 2n^2 (n being position of a shell a.k.a. the list index + 1).\n",
    "- For example, maximum number of electrons in 3rd shield is 2*3^2 = 18.\n",
    "- Electrons should fill the lowest level shell first.\n",
    "- If the electrons have completely filled the lowest level shell, the other unoccupied electrons will fill the higher level shell and so on."
   ]
  },
  {
   "cell_type": "code",
   "execution_count": 6,
   "metadata": {},
   "outputs": [
    {
     "name": "stdout",
     "output_type": "stream",
     "text": [
      "44\n",
      "[2, 8, 18, 16]\n"
     ]
    }
   ],
   "source": [
    "electrons = int(input())\n",
    "\n",
    "index = 0\n",
    "shell_list = []\n",
    "\n",
    "while electrons > 0:\n",
    "    index += 1\n",
    "    max_num_electrons = 2 * index ** 2\n",
    "    if electrons >= max_num_electrons:\n",
    "        shell_list.append(max_num_electrons)\n",
    "        electrons -= max_num_electrons\n",
    "    else:\n",
    "        shell_list.append(electrons)\n",
    "        electrons -= max_num_electrons\n",
    "\n",
    "print(shell_list)"
   ]
  },
  {
   "cell_type": "markdown",
   "metadata": {},
   "source": [
    "## 6.\tGroup of 10's"
   ]
  },
  {
   "cell_type": "markdown",
   "metadata": {},
   "source": [
    "Write a program that receives a list of numbers (string containing integers separated by \", \") and prints lists with the numbers them into lists of 10's. "
   ]
  },
  {
   "cell_type": "markdown",
   "metadata": {},
   "source": [
    "Examples:\n",
    "- The numbers 2 8 4 3 fall into the group under 10\n",
    "- The numbers 13 19 14 15 fall into the group under 20"
   ]
  },
  {
   "cell_type": "code",
   "execution_count": 7,
   "metadata": {},
   "outputs": [
    {
     "name": "stdout",
     "output_type": "stream",
     "text": [
      "8, 12, 38, 3, 17, 19, 25, 35, 50\n",
      "Group of 10's: [8, 3]\n",
      "Group of 20's: [12, 17, 19]\n",
      "Group of 30's: [25]\n",
      "Group of 40's: [38, 35]\n",
      "Group of 50's: [50]\n"
     ]
    }
   ],
   "source": [
    "numbers = input().split(\", \")\n",
    "numbers = [int(el) for el in numbers]\n",
    "\n",
    "max_element_in_numbers = max(numbers)\n",
    "\n",
    "for i in range(10, max_element_in_numbers + 10, 10):\n",
    "    my_list = list(filter((lambda x: i - 10 < x <= i), numbers))\n",
    "    print(f\"Group of {i}'s: {my_list}\")\n",
    "    my_list.clear()"
   ]
  },
  {
   "cell_type": "markdown",
   "metadata": {},
   "source": [
    "## 7.\tDecipher This"
   ]
  },
  {
   "cell_type": "markdown",
   "metadata": {},
   "source": [
    "You are given a secret message you need to decipher. Here are the things you need to know to decipher it:"
   ]
  },
  {
   "cell_type": "markdown",
   "metadata": {},
   "source": [
    "For each word:\n",
    "•\tthe second and the last letter are switched (e.g. Hello becomes Holle)\n",
    "•\tthe first letter is replaced by its character code (e.g. H becomes 72)"
   ]
  },
  {
   "cell_type": "code",
   "execution_count": 8,
   "metadata": {},
   "outputs": [
    {
     "name": "stdout",
     "output_type": "stream",
     "text": [
      "72olle 103doo 100ya\n",
      "Hello good day\n"
     ]
    }
   ],
   "source": [
    "message = input().split()\n",
    "\n",
    "message = [chr(int(el[:3])) + el[3:] if el[2].isdigit() else chr(int(el[:2])) + el[2:] for el in message]\n",
    "\n",
    "final_message = []\n",
    "\n",
    "for el in message:\n",
    "    temp_list = [el[i] for i in range(len(el))]\n",
    "    temp_list[1], temp_list[-1] = temp_list[-1], temp_list[1]\n",
    "    final_message.append(\"\".join(temp_list))\n",
    "    temp_list.clear()\n",
    "\n",
    "print(\" \".join(final_message))"
   ]
  },
  {
   "cell_type": "markdown",
   "metadata": {},
   "source": [
    "to be continued..."
   ]
  }
 ],
 "metadata": {
  "kernelspec": {
   "display_name": "Python 3",
   "language": "python",
   "name": "python3"
  },
  "language_info": {
   "codemirror_mode": {
    "name": "ipython",
    "version": 3
   },
   "file_extension": ".py",
   "mimetype": "text/x-python",
   "name": "python",
   "nbconvert_exporter": "python",
   "pygments_lexer": "ipython3",
   "version": "3.8.3"
  }
 },
 "nbformat": 4,
 "nbformat_minor": 4
}
