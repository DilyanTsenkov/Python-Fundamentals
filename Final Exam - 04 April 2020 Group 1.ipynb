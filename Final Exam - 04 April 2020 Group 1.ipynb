{
 "cells": [
  {
   "cell_type": "markdown",
   "metadata": {},
   "source": [
    "# Final Exam - 04 April 2020 Group 1"
   ]
  },
  {
   "cell_type": "markdown",
   "metadata": {},
   "source": [
    "## Problem 1. Activation Keys\n",
    "You are about to make some good money, but first you need to think of a way to verify who paid for your product and who didn`t. You have decided to let people use the software for a free trial period and then require an activation key in order to continue to use the product. The last step before you could cash out is to design a program that creates unique activation keys for each user. So, waste no more time and start typing!\n",
    "<br><br>The first line of the input will be your raw activation key. It will consist of letters and numbers only. \n",
    "<br>After that, until the \"Generate\" command is given, you will be receiving strings with instructions for different operations that need to be performed upon the raw activation key.\n",
    "<br>There are several types of instructions, split by \">>>\":\n",
    "* Contains>>>{substring} – checks if the raw activation key contains the given substring.\n",
    "    * If it does prints: \"{raw activation key} contains {substring}\".\n",
    "    * If not, prints: \"Substring not found!\"\n",
    "* Flip>>>Upper/Lower>>>{startIndex}>>>{endIndex}\n",
    "    * Changes the substring between the given indices (the end index is exclusive) to upper or lower case. \n",
    "    * All given indexes will be valid.\n",
    "    * Prints the activation key.\n",
    "* Slice>>>{startIndex}>>>{endIndex}\n",
    "    * Deletes the characters between the start and end indices (end index is exclusive).\n",
    "    * Both indices will be valid.\n",
    "    * Prints the activation key."
   ]
  },
  {
   "cell_type": "markdown",
   "metadata": {},
   "source": [
    "### Input\n",
    "* The first line of the input will be string and it will consist of letters and numbers only. \n",
    "* After the first line, until the \"Generate\" command is given, you will be receiving strings."
   ]
  },
  {
   "cell_type": "markdown",
   "metadata": {},
   "source": [
    "### Output\n",
    "* After the \"Generate\" command is received, print:\n",
    "* \"Your activation key is: {activation key}\""
   ]
  },
  {
   "cell_type": "code",
   "execution_count": 1,
   "metadata": {},
   "outputs": [
    {
     "name": "stdout",
     "output_type": "stream",
     "text": [
      "134softsf5ftuni2020rockz42\n",
      "Slice>>>3>>>7\n",
      "134sf5ftuni2020rockz42\n",
      "Contains>>>-rock\n",
      "Substring not found!\n",
      "Contains>>>-uni-\n",
      "Substring not found!\n",
      "Contains>>>-rocks\n",
      "Substring not found!\n",
      "Flip>>>Upper>>>2>>>8\n",
      "134SF5FTuni2020rockz42\n",
      "Flip>>>Lower>>>5>>>11\n",
      "134SF5ftuni2020rockz42\n",
      "Generate\n",
      "Your activation key is: 134SF5ftuni2020rockz42\n"
     ]
    }
   ],
   "source": [
    "def contains(r_key, com):\n",
    "    substring = com[1]\n",
    "    if substring in r_key:\n",
    "        print(f\"{r_key} contains {substring}\")\n",
    "    else:\n",
    "        print(\"Substring not found!\")\n",
    "    return r_key\n",
    "\n",
    "\n",
    "def flip(r_key, com):\n",
    "    upper_lower = com[1]\n",
    "    start_index = int(com[2])\n",
    "    end_index = int(com[3])\n",
    "    part_key = r_key[start_index:end_index]\n",
    "    if upper_lower == \"Upper\":\n",
    "        part_key = part_key.upper()\n",
    "    else:\n",
    "        part_key = part_key.lower()\n",
    "    r_key = r_key[:start_index] + part_key + r_key[end_index:]\n",
    "    print(r_key)\n",
    "    return r_key\n",
    "\n",
    "\n",
    "def slice(r_key, com):\n",
    "    start_index = int(com[1])\n",
    "    end_index = int(com[2])\n",
    "    r_key = r_key[:start_index] + r_key[end_index:]\n",
    "    print(r_key)\n",
    "    return r_key\n",
    "\n",
    "\n",
    "raw_key = input()\n",
    "\n",
    "while True:\n",
    "    command = input()\n",
    "    if command == \"Generate\":\n",
    "        break\n",
    "    command = command.split(\">>>\")\n",
    "    action = command[0]\n",
    "\n",
    "    if action == \"Contains\":\n",
    "        raw_key = contains(raw_key, command)\n",
    "    elif action == \"Flip\":\n",
    "        raw_key = flip(raw_key, command)\n",
    "    elif action == \"Slice\":\n",
    "        raw_key = slice(raw_key, command)\n",
    "\n",
    "print(f\"Your activation key is: {raw_key}\")"
   ]
  },
  {
   "cell_type": "markdown",
   "metadata": {},
   "source": [
    "## Problem 2. Emoji Detector\n",
    "Your task is to write program which extracts emojis from a text and find the threshold based on the input.\n",
    "<br>You have to get your cool threshold. It is obtained by multiplying all the digits found in the input.  The cool threshold could be a very big number, so be mindful.\n",
    "<br>An emoji is valid when:\n",
    "* Is surrounded by either :: or ** (exactly 2)\n",
    "* Is at least 3 characters long (without the surrounding symbols)\n",
    "* Starts with a capital letter\n",
    "* Continues with lowercase letters only\n",
    "<br>Examples of valid emojis: ::Joy::, **Banana**, ::Wink::\n",
    "<br>Examples of invalid emojis: ::Joy**, ::fox:es:, **Monk3ys**, :Snak::Es::\n",
    "<br>You need to count all valid emojis in the text and calculate their coolness. The coolness of the emoji is determined by summing all the ASCII values of all letters in the emoji. \n",
    "<br>Examples: ::Joy:: - 306, **Banana** - 577, ::Wink:: - 409\n",
    "<br>You need to print the result of cool threshold and after that to take all emojis out of the text, count them and print the only the cool ones on the console. "
   ]
  },
  {
   "cell_type": "markdown",
   "metadata": {},
   "source": [
    "### Input\n",
    "* On the single input you will receive a piece of string. "
   ]
  },
  {
   "cell_type": "markdown",
   "metadata": {},
   "source": [
    "### Output\n",
    "* On the first line of the output print the obtained Cool threshold in format:\n",
    "* Cool threshold: {coolThresholdSum}\n",
    "<br>On the next line print the count of all emojis found in the text in format:\n",
    "* {countOfAllEmojis} emojis found in the text. The cool ones are:\n",
    "* {cool emoji 1}\n",
    "* {cool emoji 2}\n",
    "* {…}\n",
    "<br>If there are no cool ones, just don't print anything in the end."
   ]
  },
  {
   "cell_type": "markdown",
   "metadata": {},
   "source": [
    "### Constraints\n",
    "There will always be at least one digit in the text!"
   ]
  },
  {
   "cell_type": "code",
   "execution_count": 2,
   "metadata": {},
   "outputs": [
    {
     "name": "stdout",
     "output_type": "stream",
     "text": [
      "In the Sofia Zoo there are 311 animals in total! ::Smiley:: This includes 3 **Tigers**, 1 ::Elephant:, 12 **Monk3ys**, a **Gorilla::, 5 ::fox:es: and 21 different types of :Snak::Es::. ::Mooning:: **Shy**\n",
      "Cool threshold: 540\n",
      "4 emojis found in the text. The cool ones are:\n",
      "::Smiley::\n",
      "**Tigers**\n",
      "::Mooning::\n"
     ]
    }
   ],
   "source": [
    "import re\n",
    "\n",
    "\n",
    "def threshold(input_string):\n",
    "    c_threshold = 1\n",
    "    digit_regex = r\"[0-9]\"\n",
    "    digits = re.findall(digit_regex, input_string)\n",
    "    for digit in digits:\n",
    "        c_threshold *= int(digit)\n",
    "    return c_threshold\n",
    "\n",
    "\n",
    "def emoji_checker(input_string, cool):\n",
    "    all_of_emojis = []\n",
    "    cool_of_emojis = []\n",
    "    emoji_regex = r\"(?P<symbols>\\:\\:|\\*\\*)(?P<emoji>[A-Z][a-z][a-z]+)(?P=symbols)\"\n",
    "    emojis = re.finditer(emoji_regex, input_string)\n",
    "    for data in emojis:\n",
    "        coolness = 0\n",
    "        d = data.groupdict()\n",
    "        for char in d[\"emoji\"]:\n",
    "            coolness += ord(char)\n",
    "        emoji_found = d[\"symbols\"] + d[\"emoji\"] + d[\"symbols\"]\n",
    "        all_of_emojis.append(emoji_found)\n",
    "        if coolness > cool:\n",
    "            cool_of_emojis.append(emoji_found)\n",
    "    return all_of_emojis, cool_of_emojis\n",
    "\n",
    "\n",
    "string = input()\n",
    "\n",
    "cool_threshold = threshold(string)\n",
    "all_emojis, cool_emojis = emoji_checker(string, cool_threshold)\n",
    "\n",
    "print(f\"Cool threshold: {cool_threshold}\")\n",
    "print(f\"{len(all_emojis)} emojis found in the text. The cool ones are:\")\n",
    "cool_emojis = [print(_, end=\"\\n\") for _ in cool_emojis]"
   ]
  },
  {
   "cell_type": "markdown",
   "metadata": {},
   "source": [
    "## Problem 3. P!rates\n",
    "\n",
    "Anno 1681. The Caribbean. The golden age of piracy. You are a well-known pirate captain by the name of Jack… Daniels. Together with your comrades Jim (Beam) and Johnny (Walker) you have been roaming the seas, looking for gold and treasure… and the occasional killing, of course. Go ahead, target some wealthy settlements and show them the pirate`s way!"
   ]
  },
  {
   "cell_type": "markdown",
   "metadata": {},
   "source": [
    "### Description\n",
    "Until the \"Sail\" command is given you will be receiving:\n",
    "* Cities that you and your crew have targeted, with their population and gold, separated by \"||\".\n",
    "* If you receive a city which has been already received, you have to increase the population and gold with the given values.\n",
    "<br>After the \"Sail\" command, you will start receiving lines of text representing events until the \"End\" command is given. \n",
    "<br>Events will be in the following format:\n",
    "* \"Plunder=>{town}=>{people}=>{gold}\"\n",
    "    * You have successfully attacked and plundered the town, killing the given number of people and stealing the respective amount of gold. \n",
    "    * For every town you attack print this message: \"{town} plundered! {gold} gold stolen, {people} citizens killed.\"\n",
    "    * If any of those two values (population or gold) reaches zero, the town is disbanded.\n",
    "        * You need to remove it from your collection of targeted cities and print the following message: \"{town} has been wiped off the map!\"\n",
    "    * There will be no case of receiving more people or gold than there is in the city.\n",
    "* \"Prosper=>{town}=>{gold}\"\n",
    "    * There has been a dramatic economic growth in the given city, increasing its treasury by the given amount of gold.\n",
    "    * The gold amount can be a negative number, so be careful. If a negative amount of gold is given print: \"Gold added cannot be a negative number!\" and ignore the command.\n",
    "    * If the given gold is a valid amount, increase the town's gold reserves by the respective amount and print the following message: \"{gold added} gold added to the city treasury. {town} now has {total gold} gold.\""
   ]
  },
  {
   "cell_type": "markdown",
   "metadata": {},
   "source": [
    "### Input\n",
    "* On the first lines, until the \"Sail\" command, you will be receiving strings representing the cities with their gold and population, separated by \"||\"\n",
    "* On the next lines, until the \"End\" command, you will be receiving strings representing the actions described above, separated by \"=>\""
   ]
  },
  {
   "cell_type": "markdown",
   "metadata": {},
   "source": [
    "### Output\n",
    "* After receiving the \"End\" command if there are any existing settlements on your list of targets, you need to print all of them, sorted by their gold in descending order, then by their name in ascending order, in the following format:\n",
    "<br>Ahoy, Captain! There are {count} wealthy settlements to go to:\n",
    "{town1} -> Population: {people} citizens, Gold: {gold} kg\n",
    "<br>…\n",
    "<br>{town…n} -> Population: {people} citizens, Gold: {gold} kg\n",
    "* If there are no settlements left to plunder, print:\n",
    "<br>\"Ahoy, Captain! All targets have been plundered and destroyed!\""
   ]
  },
  {
   "cell_type": "markdown",
   "metadata": {},
   "source": [
    "### Constraints\n",
    "* The initial population and gold of the settlements will be valid, 32-bit integers, \n",
    "will never be negative or exceed the respective limits.\n",
    "* The town names in the events will always be valid towns that should be on your list."
   ]
  },
  {
   "cell_type": "code",
   "execution_count": 3,
   "metadata": {},
   "outputs": [
    {
     "name": "stdout",
     "output_type": "stream",
     "text": [
      "Nassau||95000||1000\n",
      "San Juan||930000||1250\n",
      "Campeche||270000||690\n",
      "Port Royal||320000||1000 \n",
      "Port Royal||100000||2000\n",
      "Sail\n",
      "Prosper=>Port Royal=>-200\n",
      "Gold added cannot be a negative number!\n",
      "Plunder=>Nassau=>94000=>750 \n",
      "Nassau plundered! 750 gold stolen, 94000 citizens killed.\n",
      "Plunder=>Nassau=>1000=>150\n",
      "Nassau plundered! 150 gold stolen, 1000 citizens killed.\n",
      "Nassau has been wiped off the map!\n",
      "Plunder=>Campeche=>150000=>690\n",
      "Campeche plundered! 690 gold stolen, 150000 citizens killed.\n",
      "Campeche has been wiped off the map!\n",
      "End\n",
      "Ahoy, Captain! There are 2 wealthy settlements to go to:\n",
      "Port Royal -> Population: 420000 citizens, Gold: 3000 kg\n",
      "San Juan -> Population: 930000 citizens, Gold: 1250 kg\n"
     ]
    }
   ],
   "source": [
    "places = {}\n",
    "\n",
    "while True:\n",
    "    target = input()\n",
    "    if target == \"Sail\":\n",
    "        break\n",
    "\n",
    "    city, population, gold = target.split(\"||\")\n",
    "    population = int(population)\n",
    "    gold = int(gold)\n",
    "\n",
    "    if city not in places:\n",
    "        places[city] = [population, gold]\n",
    "    else:\n",
    "        if city in places:\n",
    "            places[city][0] += population\n",
    "            places[city][1] += gold\n",
    "\n",
    "while True:\n",
    "    events = input()\n",
    "    if events == \"End\":\n",
    "        break\n",
    "\n",
    "    events = events.split(\"=>\")\n",
    "    event = events[0]\n",
    "    town = events[1]\n",
    "\n",
    "    if event == \"Plunder\":\n",
    "        people = int(events[2])\n",
    "        gold = int(events[3])\n",
    "        print(f\"{town} plundered! {gold} gold stolen, {people} citizens killed.\")\n",
    "        places[town][1] -= gold\n",
    "        places[town][0] -= people\n",
    "        if places[town][0] == 0 or places[town][1] == 0:\n",
    "            removed_town = places.pop(town)\n",
    "            print(f\"{town} has been wiped off the map!\")\n",
    "    elif event == \"Prosper\":\n",
    "        gold = int(events[2])\n",
    "        if gold < 0:\n",
    "            print(\"Gold added cannot be a negative number!\")\n",
    "        else:\n",
    "            places[town][1] += gold\n",
    "            print(f\"{gold} gold added to the city treasury. {town} now has {places[town][1]} gold.\")\n",
    "\n",
    "places = dict(sorted(places.items(), key=lambda x: (-x[1][1], x[0])))\n",
    "\n",
    "if places:\n",
    "    print(f\"Ahoy, Captain! There are {len(places)} wealthy settlements to go to:\")\n",
    "    for key, value in places.items():\n",
    "        print(f\"{key} -> Population: {value[0]} citizens, Gold: {value[1]} kg\")\n",
    "else:\n",
    "    print(\"Ahoy, Captain! All targets have been plundered and destroyed!\")"
   ]
  }
 ],
 "metadata": {
  "kernelspec": {
   "display_name": "Python 3",
   "language": "python",
   "name": "python3"
  },
  "language_info": {
   "codemirror_mode": {
    "name": "ipython",
    "version": 3
   },
   "file_extension": ".py",
   "mimetype": "text/x-python",
   "name": "python",
   "nbconvert_exporter": "python",
   "pygments_lexer": "ipython3",
   "version": "3.8.3"
  }
 },
 "nbformat": 4,
 "nbformat_minor": 4
}
