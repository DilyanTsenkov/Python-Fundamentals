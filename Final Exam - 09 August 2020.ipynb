{
 "cells": [
  {
   "cell_type": "markdown",
   "metadata": {},
   "source": [
    "# Final Exam - 09 August 2020"
   ]
  },
  {
   "cell_type": "markdown",
   "metadata": {},
   "source": [
    "## Problem 1. World Tour\n",
    "You are a world traveller and your next goal is to make a world tour. In order to do that, you have to plan out everything first. To start with, you would like to plan out all of your stops where you will have a break.\n",
    "<br><br>On the first line you will be given a string containing all of your stops. Until you receive the command \"Travel\", you will be given some commands to manipulate that initial string. The commands can be:\n",
    "* Add Stop:{index}:{string} – insert the given string at that index only if the index is valid\n",
    "* Remove Stop:{start_index}:{end_index} – remove the elements of the string from the starting index to the end index (inclusive) if both indices are valid\n",
    "* Switch:{old_string}:{new_string} – if the old string is in the initial string, replace it with the new one. (all occurrences)\n",
    "<br><br>Note: After each command print the current state of the string\n",
    "<br><br>After the \"Travel\" command, print the following: \"Ready for world tour! Planned stops: {string}\"\n",
    "\n",
    "### Input / Constraints\n",
    "* JavaScript: you will receive a list of strings\n",
    "\n",
    "### Output\n",
    "* Print the proper output messages in the proper cases as described in the problem description"
   ]
  },
  {
   "cell_type": "code",
   "execution_count": 1,
   "metadata": {},
   "outputs": [
    {
     "name": "stdout",
     "output_type": "stream",
     "text": [
      "Hawai::Cyprys-Greece\n",
      "Add Stop:7:Rome\n",
      "Hawai::RomeCyprys-Greece\n",
      "Remove Stop:11:16\n",
      "Hawai::Rome-Greece\n",
      "Switch:Hawai:Bulgaria\n",
      "Bulgaria::Rome-Greece\n",
      "Travel\n",
      "Ready for world tour! Planned stops: Bulgaria::Rome-Greece\n"
     ]
    }
   ],
   "source": [
    "stops = input()\n",
    "\n",
    "while True:\n",
    "    command = input()\n",
    "    if command == \"Travel\":\n",
    "        break\n",
    "    command = command.split(\":\")\n",
    "    action = command[0]\n",
    "\n",
    "    if action == \"Add Stop\":\n",
    "        index = int(command[1])\n",
    "        string = command[2]\n",
    "        if 0 <= index < len(stops):\n",
    "            stops = stops[:index] + string + stops[index:]\n",
    "        print(stops)\n",
    "    elif action == \"Remove Stop\":\n",
    "        start_index = int(command[1])\n",
    "        end_index = int(command[2])\n",
    "        if (0 <= start_index <= end_index) and (start_index <= end_index < len(stops)):\n",
    "            stops = stops[:start_index] + stops[end_index + 1:]\n",
    "        print(stops)\n",
    "    elif action == \"Switch\":\n",
    "        old_string = command[1]\n",
    "        new_string = command[2]\n",
    "        if old_string in stops:\n",
    "            stops = stops.replace(old_string, new_string)\n",
    "        print(stops)\n",
    "print(f\"Ready for world tour! Planned stops: {stops}\")"
   ]
  },
  {
   "cell_type": "markdown",
   "metadata": {},
   "source": [
    "## Problem 2. Destination Mapper\n",
    "Now that you have planned out your tour, you are ready to go! Your next task is to mark all the points on the map that you are going to visit.\n",
    "<br><br>You will be given a string representing some places on the map. You have to filter only the valid ones. A valid location is:\n",
    "* Surrounded by \"=\" or \"/\" on both sides (the first and the last symbols must match)\n",
    "* After the first \"=\" or \"/\" there should be only letters (the first must be upper-case)\n",
    "* The letters must be at least 3\n",
    "<br><br>Example: In the string \"=Hawai=/Cyprus/=Invalid/invalid==i5valid=/I5valid/=i=\" only the first two locations are valid.\n",
    "<br><br>After you have matched all the valid locations, you have to calculate travel points. They are calculated by summing the lengths of all the valid destinations that you have found on the map. At the end, on the first line print the following: \"Destinations: {destinations joined by ', '}\". On the second line print \"Travel Points: {travel_points}\".\n",
    "\n",
    "### Input / Constraints\n",
    "* You will recive a string representing the locations on the map\n",
    "* JavaScript: you will receive a single parameter: string\n",
    "\n",
    "### Output\n",
    "* Print the messages described above"
   ]
  },
  {
   "cell_type": "code",
   "execution_count": 2,
   "metadata": {},
   "outputs": [
    {
     "name": "stdout",
     "output_type": "stream",
     "text": [
      "=Hawai=/Cyprus/=Invalid/invalid==i5valid=/I5valid/=i=\n",
      "Destinations: Hawai, Cyprus\n",
      "Travel Points: 11\n"
     ]
    }
   ],
   "source": [
    "import re\n",
    "\n",
    "string = input()\n",
    "\n",
    "regex = r\"(?P<symbol>=|/)(?P<place>([A-Z][A-Za-z]{2,}))(?P=symbol)\"\n",
    "\n",
    "places = []\n",
    "travel_points = 0\n",
    "\n",
    "data = re.finditer(regex, string)\n",
    "for item in data:\n",
    "    d = item.groupdict()\n",
    "    travel_points += len(d[\"place\"])\n",
    "    places.append(d[\"place\"])\n",
    "\n",
    "places = \", \".join(places)\n",
    "\n",
    "print(f\"Destinations: {places}\")\n",
    "print(f\"Travel Points: {travel_points}\")"
   ]
  },
  {
   "cell_type": "markdown",
   "metadata": {},
   "source": [
    "## Problem 3. Plant Discovery\n",
    "You have now returned from your world tour. On your way you have discovered some new plants and you want to gather some information about them and create an exhibition to see which plant is highest rated.\n",
    "<br><br>On the first line you will receive a number n. On the next n lines, you will be given some information about the plants that you have discovered in the format: \"{plant}<->{rarity}\". Store that information, because you will need it later. If you receive a plant more than once, update its rarity.\n",
    "<br><br>After that until you receive the command \"Exhibition\" you will be given some of these commands:\n",
    "* Rate: {plant} - {rating} – add the given rating to the plant (store all ratings)\n",
    "* Update: {plant} - {new_rarity} – update the rarity of the plant with the new one\n",
    "* Reset: {plant} – remove all the ratings of the given plant\n",
    "<br><br>Note: If any of the command is invalid, print \"error\"\n",
    "<br><br>After the command \"Exhibition\" print the information that you have about the plants in the following format:\n",
    "<br>Plants for the exhibition:\n",
    "<br><br>- {plant_name}; Rarity: {rarity}; Rating: {average_rating formatted to the 2nd digit}\n",
    "<br><br>…\n",
    "<br><br>The plants should be sorted by rarity descending, then by average rating descending\n",
    "\n",
    "### Input / Constraints\n",
    "* You will recive the input as described above\n",
    "* JavaScript: you will receive a list of strings\n",
    "\n",
    "### Output\n",
    "* Print the information about all plants as described above"
   ]
  },
  {
   "cell_type": "code",
   "execution_count": 3,
   "metadata": {},
   "outputs": [
    {
     "name": "stdout",
     "output_type": "stream",
     "text": [
      "3\n",
      "Arnoldii<->4\n",
      "Woodii<->7\n",
      "Welwitschia<->2\n",
      "Rate: Woodii - 10\n",
      "Rate: Welwitschia - 7\n",
      "Rate: Arnoldii - 3\n",
      "Rate: Woodii - 5\n",
      "Update: Woodii - 5\n",
      "Reset: Arnoldii\n",
      "Exhibition\n",
      "Plants for the exhibition:\n",
      "- Woodii; Rarity: 5; Rating: 7.50\n",
      "- Arnoldii; Rarity: 4; Rating: 0.00\n",
      "- Welwitschia; Rarity: 2; Rating: 7.00\n"
     ]
    }
   ],
   "source": [
    "def plants(number):\n",
    "    my_plants = {}\n",
    "    for num in range(number):\n",
    "        plant, rarity = input().split(\"<->\")\n",
    "        my_plants[plant] = {\"Rarity\": int(rarity), \"Rating\": []}\n",
    "\n",
    "    return my_plants\n",
    "\n",
    "\n",
    "number = int(input())\n",
    "my_plants = plants(number)\n",
    "\n",
    "while True:\n",
    "    commands = input()\n",
    "    if commands == \"Exhibition\":\n",
    "        break\n",
    "    commands = commands.split(\": \")\n",
    "    action = commands.pop(0)\n",
    "    temp = commands[0].split(\" - \")\n",
    "    plant = temp[0]\n",
    "    if plant not in my_plants:\n",
    "        print(\"error\")\n",
    "    else:\n",
    "        if action == \"Rate\":\n",
    "            rating = int(temp[1])\n",
    "            my_plants[plant][\"Rating\"].append(rating)\n",
    "        elif action == \"Update\":\n",
    "            new_rarity = int(temp[1])\n",
    "            my_plants[plant][\"Rarity\"] = new_rarity\n",
    "        elif action == \"Reset\":\n",
    "            my_plants[plant][\"Rating\"] = []\n",
    "\n",
    "for rate in my_plants.values():\n",
    "    if len(rate[\"Rating\"]) > 0:\n",
    "        rate[\"Rating\"] = (sum(rate[\"Rating\"]) / len(rate[\"Rating\"]))\n",
    "    else:\n",
    "        rate[\"Rating\"] = 0\n",
    "\n",
    "my_plants = dict(sorted(my_plants.items(), key=lambda x: (-x[1][\"Rarity\"], -x[1][\"Rating\"])))\n",
    "print('Plants for the exhibition:')\n",
    "for key, value in my_plants.items():\n",
    "    print(f'- {key}; Rarity: {my_plants[key][\"Rarity\"]}; Rating: {my_plants[key][\"Rating\"]:.2f}')"
   ]
  }
 ],
 "metadata": {
  "kernelspec": {
   "display_name": "Python 3",
   "language": "python",
   "name": "python3"
  },
  "language_info": {
   "codemirror_mode": {
    "name": "ipython",
    "version": 3
   },
   "file_extension": ".py",
   "mimetype": "text/x-python",
   "name": "python",
   "nbconvert_exporter": "python",
   "pygments_lexer": "ipython3",
   "version": "3.8.3"
  }
 },
 "nbformat": 4,
 "nbformat_minor": 4
}
