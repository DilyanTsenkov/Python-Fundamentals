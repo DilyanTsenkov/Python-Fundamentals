{
 "cells": [
  {
   "cell_type": "markdown",
   "metadata": {},
   "source": [
    "# Final Exam Retake - 15 August 2020"
   ]
  },
  {
   "cell_type": "markdown",
   "metadata": {},
   "source": [
    "## Problem 1. The Imitation Game\n",
    "You are a mathematician during world war 2, who has joined the cryptography team to decipher the enemy's enigma code. Your job is to create a program to crack the codes. \n",
    "<br><br>On the first line of the input you will receive the encrypted message. After that, until the \"Decode\" command is given, you will be receiving strings with instructions for different operations that need to be performed upon the concealed message to interpret it and reveal its true content. There are several types of instructions, split by '|'\n",
    "* Move {number of letters}\n",
    "    * Moves the first n letters to the back of the string. \n",
    "* Insert {index} {value}\n",
    "    * Inserts the given value before the given index in the string.\n",
    "* ChangeAll {substring} {replacement} \n",
    "    * Changes all occurrences of the given substring with the replacement text.\n",
    "\n",
    "### Input / Constraints\n",
    "* On the first line, you will receive a string with message.\n",
    "* On the next lines, you will be receiving commands, split by '|' \n",
    "\n",
    "### Output\n",
    "* After the \"Decode\" command is received, print this message:\n",
    "\"The decrypted message is: {message}\""
   ]
  },
  {
   "cell_type": "code",
   "execution_count": 1,
   "metadata": {},
   "outputs": [
    {
     "name": "stdout",
     "output_type": "stream",
     "text": [
      "zzHe\n",
      "ChangeAll|z|l\n",
      "Insert|2|o\n",
      "Move|3\n",
      "Decode\n",
      "The decrypted message is: Hello\n"
     ]
    }
   ],
   "source": [
    "message = input()\n",
    "\n",
    "while True:\n",
    "    command = input()\n",
    "    if command == \"Decode\":\n",
    "        break\n",
    "    command = command.split(\"|\")\n",
    "    action = command[0]\n",
    "    if action == \"Move\":\n",
    "        letters = int(command[1])\n",
    "        message = message[letters:] + message[:letters]\n",
    "    elif action == \"Insert\":\n",
    "        index = int(command[1])\n",
    "        value = command[2]\n",
    "        message = message[:index] + value + message[index:]\n",
    "    if action == \"ChangeAll\":\n",
    "        substring = command[1]\n",
    "        replacement = command[2]\n",
    "        message = message.replace(substring, replacement)\n",
    "\n",
    "print(f\"The decrypted message is: {message}\")"
   ]
  },
  {
   "cell_type": "markdown",
   "metadata": {},
   "source": [
    "## Problem 2. Ad Astra\n",
    "You are an astronaut who just embarked on a mission across the solar system. Since you will be in space for a long time, you have packed a lot of food with you. Create a program, which helps you  identify how much food you have left and gives you information about its expiration date.\n",
    "<br><br>On the first line of the input you will be given a text string. You must extract the information about the food and calculate the total calories. \n",
    "<br><br>First you must extract the food info. It will always follow the same pattern rules:\n",
    "* It will be surrounded by \"|\" or \"#\" (only one of the two) in the following pattern:#{item name}#{expiration date}#{calories}#   or   |{item name}|{expiration date}|{calories}|\n",
    "* The item name will contain only lowercase and uppercase letters and whitespace\n",
    "* The expiration date will always follow the pattern: {day}/{month}/{year}, where the day, month and year will be exactly two digits long\n",
    "* The calories will be an integer between 0-10000\n",
    "<br><br>Calculate the total calories of all food items and then determine how many days you can last with the food you have. Keep in mind that you need 2000kcal a day.\n",
    "\n",
    "### Input / Constraints\n",
    "* You will receive a single string\n",
    "\n",
    "### Output\n",
    "* First print the amount of days you will be able to last with the food you have:\n",
    "<br>\"You have food to last you for: {days} days!\"\n",
    "* The output for each food item should look like this:\n",
    "<br>\"Item: {item name}, Best before: {expiration date}, Nutrition: {calories}\""
   ]
  },
  {
   "cell_type": "code",
   "execution_count": 2,
   "metadata": {},
   "outputs": [
    {
     "name": "stdout",
     "output_type": "stream",
     "text": [
      "#Bread#19/03/21#4000#|Invalid|03/03.20||Apples|08/10/20|200||Carrots|06/08/20|500||Not right|6.8.20|5|\n",
      "You have food to last you for: 2 days!\n",
      "Item: Bread, Best before: 19/03/21, Nutrition: 4000\n",
      "Item: Apples, Best before: 08/10/20, Nutrition: 200\n",
      "Item: Carrots, Best before: 06/08/20, Nutrition: 500\n"
     ]
    }
   ],
   "source": [
    "import re\n",
    "\n",
    "string = input()\n",
    "\n",
    "regex = r\"(?P<symbol>[|/|#])(?P<name>([A-Za-z\\s]+))(?P=symbol)(?P<date>([0-9]{2}/[0-9]{2}/[0-9]{2}))(?P=symbol)(?P<cal>([0-9]{1,5}))(?P=symbol)\"\n",
    "\n",
    "calories = 0\n",
    "counter = 1\n",
    "items = {}\n",
    "\n",
    "finder = re.finditer(regex, string)\n",
    "for item in finder:\n",
    "    d = item.groupdict()\n",
    "    items[counter] = {\"name\": d[\"name\"], \"date\": d[\"date\"], \"cal\": d[\"cal\"]}\n",
    "    counter += 1\n",
    "    calories += int(d[\"cal\"])\n",
    "\n",
    "days = calories // 2000\n",
    "\n",
    "print(f\"You have food to last you for: {days} days!\")\n",
    "for v in items.values():\n",
    "    print(f'Item: {v[\"name\"]}, Best before: {v[\"date\"]}, Nutrition: {v[\"cal\"]}')"
   ]
  },
  {
   "cell_type": "markdown",
   "metadata": {},
   "source": [
    "## Problem 3. The Pianist\n",
    "You are a pianist and you like to keep a list of your favorite piano pieces. Create a program, to help you organize it and add, change, remove pieces from it!\n",
    "<br><br>On the first line of the standard input you will receive an integer n – the number of pieces that you will initially have. On the next n lines the pieces themselves will follow with their composer and key, separated by \"|\" in the following format:\n",
    "<br>{piece}|{composer}|{key}\n",
    "<br><br>Then, you will be receiving different commands, each on a new line, separated by \"|\", until the \"Stop\" command is given:\n",
    "* Add|{piece}|{composer}|{key} \n",
    "    * You need to add the given piece with the information about it to the other pieces\n",
    "    * If the piece is already in the collection, print: \"{piece} is already in the collection!\"\n",
    "    * If the piece is not in the collection, print: \"{piece} by {composer} in {key} added to the collection!\"\n",
    "* Remove|{piece}\n",
    "    * If the piece is in the collection, remove it and print: \"Successfully removed {piece}!\"\n",
    "    * If the piece is not in the collection, print: \"Invalid operation! {piece} does not exist in the collection.\"\n",
    "* ChangeKey|{piece}|{new key}\n",
    "    * If the piece is in the collection, change its key with the given one and print:\"Changed the key of {piece} to {new key}!\"\n",
    "    * If the piece is not in the collection, print: \"Invalid operation! {piece} does not exist in the collection.\"\n",
    "<br><br>Upon receiving the \"Stop\" command you need to print all pieces in your collection, sorted by their name and by the name of their composer in alphabetical order, in the following format:\n",
    "\"{Piece} -> Composer: {composer}, Key: {key}\"\n",
    "\n",
    "### Input/Constraints\n",
    "* You will receive a single integer at first – the initial number of pieces in the collection\n",
    "* For each piece you will receive a single line of text with information about it.\n",
    "* Then you will receive multiple commands in the way described above, until the command \"Stop\".\n",
    "\n",
    "### Output\n",
    "* All the output messages with the appropriate formats are described in the problem description."
   ]
  },
  {
   "cell_type": "code",
   "execution_count": 6,
   "metadata": {},
   "outputs": [
    {
     "name": "stdout",
     "output_type": "stream",
     "text": [
      "3\n",
      "Fur Elise|Beethoven|A Minor\n",
      "Moonlight Sonata|Beethoven|C# Minor\n",
      "Clair de Lune|Debussy|C# Minor\n",
      "Add|Sonata No.2|Chopin|B Minor\n",
      "Sonata No.2 by Chopin in B Minor added to the collection!\n",
      "Add|Hungarian Rhapsody No.2|Liszt|C# Minor\n",
      "Hungarian Rhapsody No.2 by Liszt in C# Minor added to the collection!\n",
      "Add|Fur Elise|Beethoven|C# Minor\n",
      "Fur Elise is already in the collection!\n",
      "Remove|Clair de Lune\n",
      "Successfully removed Clair de Lune!\n",
      "ChangeKey|Moonlight Sonata|C# Major\n",
      "Changed the key of Moonlight Sonata to C# Major!\n",
      "Stop\n",
      "Fur Elise -> Composer: Beethoven, Key: A Minor\n",
      "Hungarian Rhapsody No.2 -> Composer: Liszt, Key: C# Minor\n",
      "Moonlight Sonata -> Composer: Beethoven, Key: C# Major\n",
      "Sonata No.2 -> Composer: Chopin, Key: B Minor\n"
     ]
    }
   ],
   "source": [
    "def pieces(pieces):\n",
    "    db_pieces = {}\n",
    "    for p in range(pieces):\n",
    "        piece, composer, key = input().split(\"|\")\n",
    "        db_pieces[piece] = {\"composer\": composer, \"key\": key}\n",
    "    return db_pieces\n",
    "\n",
    "\n",
    "def add(my_pieces, piece, composer, key):\n",
    "    if piece in my_pieces:\n",
    "        print(f\"{piece} is already in the collection!\")\n",
    "    else:\n",
    "        my_pieces[piece] = {\"composer\": composer, \"key\": key}\n",
    "        print(f\"{piece} by {composer} in {key} added to the collection!\")\n",
    "    return my_pieces\n",
    "\n",
    "\n",
    "def remove(my_pieces, piece):\n",
    "    if piece in my_pieces:\n",
    "        my_pieces.pop(piece)\n",
    "        print(f\"Successfully removed {piece}!\")\n",
    "    else:\n",
    "        print(f\"Invalid operation! {piece} does not exist in the collection.\")\n",
    "    return my_pieces\n",
    "\n",
    "\n",
    "def change_key(my_pieces, piece, key):\n",
    "    if piece in my_pieces:\n",
    "        my_pieces[piece][\"key\"] = key\n",
    "        print(f\"Changed the key of {piece} to {key}!\")\n",
    "    else:\n",
    "        print(f\"Invalid operation! {piece} does not exist in the collection.\")\n",
    "    return my_pieces\n",
    "\n",
    "\n",
    "pieces_count = int(input())\n",
    "my_pieces = pieces(pieces_count)\n",
    "\n",
    "while True:\n",
    "    command = input()\n",
    "    if command == \"Stop\":\n",
    "        break\n",
    "    command = command.split(\"|\")\n",
    "    action = command[0]\n",
    "    piece_name = command[1]\n",
    "    if action == \"Add\":\n",
    "        my_pieces = add(my_pieces, piece_name, command[2], command[3])\n",
    "    elif action == \"Remove\":\n",
    "        my_pieces = remove(my_pieces, piece_name)\n",
    "    elif action == \"ChangeKey\":\n",
    "\n",
    "        my_pieces = change_key(my_pieces, piece_name, command[2])\n",
    "my_pieces = dict(sorted(my_pieces.items(), key=lambda x: (x[0], x[1][\"composer\"])))\n",
    "\n",
    "for key, value in my_pieces.items():\n",
    "    print(f'{key} -> Composer: {value[\"composer\"]}, Key: {value[\"key\"]}')"
   ]
  }
 ],
 "metadata": {
  "kernelspec": {
   "display_name": "Python 3",
   "language": "python",
   "name": "python3"
  },
  "language_info": {
   "codemirror_mode": {
    "name": "ipython",
    "version": 3
   },
   "file_extension": ".py",
   "mimetype": "text/x-python",
   "name": "python",
   "nbconvert_exporter": "python",
   "pygments_lexer": "ipython3",
   "version": "3.8.3"
  }
 },
 "nbformat": 4,
 "nbformat_minor": 4
}
