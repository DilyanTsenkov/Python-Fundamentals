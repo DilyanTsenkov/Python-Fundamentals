{
 "cells": [
  {
   "cell_type": "markdown",
   "metadata": {},
   "source": [
    "# Final Exam Retake 10.04.2020"
   ]
  },
  {
   "cell_type": "markdown",
   "metadata": {},
   "source": [
    "## Problem 1. Secret Chat"
   ]
  },
  {
   "cell_type": "markdown",
   "metadata": {},
   "source": [
    "You have plenty of free time, so you decide to write a program that conceals and reveals your received messages. Go ahead and type it in! \n",
    "<br><br>On the first line of the input you will receive the concealed message. After that, until the \"Reveal\" command is given, you will be receiving strings with instructions for different operations that need to be performed upon the concealed message in order to interpret it and reveal its true content. There are several types of instructions, split by \":|:\"\n",
    "* InsertSpace:|:{index}\n",
    "    * Inserts a single empty space at the given index. The given index will always be valid.\n",
    "* Reverse:|:{substring}\n",
    "    * If the message contains the given substring, cut it out, reverse it and add it at the end of the message. \n",
    "    * If not, print \"error\". \n",
    "    * This operation should replace only the first occurrence of the given substring if there are more than one such occurrences.\n",
    "* ChangeAll:|:{substring}:|:{replacement} \n",
    "    * Changes all occurrences of the given substring with the replacement text."
   ]
  },
  {
   "cell_type": "markdown",
   "metadata": {},
   "source": [
    "### Input / Constraints\n",
    "* On the first line, you will receive a string with message.\n",
    "* On the next lines, you will be receiving commands, split by \":|:\"."
   ]
  },
  {
   "cell_type": "markdown",
   "metadata": {},
   "source": [
    "### Output\n",
    "* After each set of instructions, print the resulting string. \n",
    "* After the \"Reveal\" command is received, print this message:\n",
    "<br>\"You have a new text message: {message}\""
   ]
  },
  {
   "cell_type": "code",
   "execution_count": 1,
   "metadata": {},
   "outputs": [
    {
     "name": "stdout",
     "output_type": "stream",
     "text": [
      "heVVodar!gniV\n",
      "ChangeAll:|:V:|:l\n",
      "hellodar!gnil\n",
      "Reverse:|:!gnil\n",
      "hellodarling!\n",
      "InsertSpace:|:5\n",
      "hello darling!\n",
      "Reveal\n",
      "You have a new text message: hello darling!\n"
     ]
    }
   ],
   "source": [
    "message = input()\n",
    "\n",
    "while True:\n",
    "    command = input()\n",
    "    if command == \"Reveal\":\n",
    "        break\n",
    "\n",
    "    command = command.split(\":|:\")\n",
    "    action = command[0]\n",
    "    if action == \"InsertSpace\":\n",
    "        index = int(command[1])\n",
    "        message = message[:index] + \" \" + message[index:]\n",
    "        print(message)\n",
    "    elif action == \"Reverse\":\n",
    "        substring = command[1]\n",
    "        if substring in message:\n",
    "            message = message.replace(substring, \"\", 1)\n",
    "            substring = substring[::-1]\n",
    "            message = message + substring\n",
    "            print(message)\n",
    "        else:\n",
    "            print(\"error\")\n",
    "    elif action == \"ChangeAll\":\n",
    "        substring = command[1]\n",
    "        replacement = command[2]\n",
    "        message = message.replace(substring, replacement)\n",
    "        print(message)\n",
    "\n",
    "print(f\"You have a new text message: {message}\")"
   ]
  },
  {
   "cell_type": "markdown",
   "metadata": {},
   "source": [
    "## Problem 2. Mirror words"
   ]
  },
  {
   "cell_type": "markdown",
   "metadata": {},
   "source": [
    "The SoftUni Spelling Bee competition is here. But it`s not like any other Spelling Bee competition out there, it`s different and a lot more fun! You, of course, are a participant and you are eager to show the competition that you are the best, so go ahead, learn the rules and win!\n",
    "<br><br>On the first line of the input you will be given a text string. In order to win the competition you have to find all hidden word pairs, read them and mark the ones that are mirror images of each other.\n",
    "<br>First of all you have to extract the hidden word pairs. Hidden word pairs are:\n",
    "* Surrounded by \"@\" or \"#\" (only one of the two) in the following pattern #wordOne##wordTwo# or @wordOne@@wordTwo@\n",
    "* At least 3 characters long each (without the surrounding symbols)\n",
    "* Made up of letters only\n",
    "<br><br>If the second word, spelled backwards is the same as the first word and vice versa (casing matters!), then they are a match and you have to store them somewhere. Examples of mirror words: \n",
    "<br><br>#Part##traP# @leveL@@Level@ #sAw##wAs#\n",
    "* If you don`t find any valid pairs print: \"No word pairs found!\"\n",
    "* If you find valid pairs print their count: \"{valid pairs count} word pairs found!\"\n",
    "* If there are no mirror words print: \"No mirror words!\"\n",
    "* If there are mirror words print:\n",
    "<br>\"The mirror words are:\n",
    "<br>{wordOne} <=> {wordtwo}, {wordOne} <=> {wordtwo}, {wordOne} <=> {wordtwo}, etc…\""
   ]
  },
  {
   "cell_type": "markdown",
   "metadata": {},
   "source": [
    "### Input / Constraints\n",
    "* You will recive a string."
   ]
  },
  {
   "cell_type": "markdown",
   "metadata": {},
   "source": [
    "### Output\n",
    "* Print the proper output messages in the proper cases as described in the problem description.\n",
    "* If there are pairs of mirror words, print them in the end, each pair separated by \", \".\n",
    "* Each pair of mirror word must be printed with \" <=> \" between the words."
   ]
  },
  {
   "cell_type": "code",
   "execution_count": 2,
   "metadata": {},
   "outputs": [
    {
     "name": "stdout",
     "output_type": "stream",
     "text": [
      "@mix#tix3dj#poOl##loOp#wl@@bong&song%4very$long@thong#Part##traP##@@leveL@@Level@##car#rac##tu@pack@@ckap@#rr#sAw##wAs#r#@w1r\n",
      "5 word pairs found!\n",
      "The mirror words are:\n",
      "Part <=> traP, leveL <=> Level, sAw <=> wAs\n"
     ]
    }
   ],
   "source": [
    "import re\n",
    "\n",
    "text = input()\n",
    "\n",
    "regex = r\"(?P<symbol>@|#)(?P<word_one>([A-za-z]+){3,})(?P=symbol){2}(?P<word_two>([A-za-z]+){3,})(?P=symbol)\"\n",
    "\n",
    "mirror_words = []\n",
    "\n",
    "word_checker = re.findall(regex, text)\n",
    "valid_pairs = len(word_checker)\n",
    "\n",
    "word_checker = re.finditer(regex, text)\n",
    "for item in word_checker:\n",
    "    d = item.groupdict()\n",
    "    if d[\"word_one\"] == d[\"word_two\"][::-1]:\n",
    "        pair = d[\"word_one\"] + \" <=> \" + d[\"word_two\"]\n",
    "        mirror_words.append(pair)\n",
    "\n",
    "if valid_pairs:\n",
    "    print(f\"{valid_pairs} word pairs found!\")\n",
    "else:\n",
    "    print(\"No word pairs found!\")\n",
    "\n",
    "if mirror_words:\n",
    "    print(\"The mirror words are:\")\n",
    "    print(\", \".join(mirror_words))\n",
    "else:\n",
    "    print(\"No mirror words!\")"
   ]
  },
  {
   "cell_type": "markdown",
   "metadata": {},
   "source": [
    "## Problem 3. Need for Speed III"
   ]
  },
  {
   "cell_type": "markdown",
   "metadata": {},
   "source": [
    "You have just bought the latest and greatest computer game – Need for Seed III. We know that you can`t wait to start playing. Pick your favorite cars and drive them all you want!\n",
    "<br><br>On the first line of the standard input you will receive an integer n – the number of cars that you can obtain. On the next n lines the cars themselves will follow with their mileage and fuel available, separated by \"|\" in the following format:\n",
    "<br><br>{car}|{mileage}|{fuel}\n",
    "<br>Then, you will be receiving different commands, each on a new line, separated by \" : \", until the \"Stop\" command is given:\n",
    "* Drive : {car} : {distance} : {fuel} \n",
    "    * You need to drive the given distance and you will need the given fuel to do that. If the car doesn`t have enough fuel print: \"Not enough fuel to make that ride\"\n",
    "    * If the car has the required fuel available in the tank, increase its mileage with the given distance, decrease its fuel with the given fuel and print: \"{car} driven for {distance} kilometers. {fuel} liters of fuel consumed.\"\n",
    "    * You like driving new cars only, so if the mileage of a car reaches 100 000 km, remove it from the collection(s). Print:\"Time to sell the {car}!\"\n",
    "* Refuel : {car} : {fuel}\n",
    "    * Refill the tank of your car. \n",
    "    * Each tank can hold a maximum of 75 liters of fuel, so if the given amount of fuel is more than you can fit in the tank, take only what is required to fill it up. \n",
    "    * Print a message in the following format: \"{car} refueled with {fuel} liters\"\n",
    "* Revert : {car} : {kilometers}\n",
    "    * Decrease the mileage of the given car with the given kilometers and print the kilometers you have decreased it with in the following format:\"{car} mileage decreased by {amount reverted} kilometers\"\n",
    "    * If the mileage becomes less than 10 000km after it is decreased, just set it to 10 000km and DO NOT print anything.\n",
    "<br><br>Upon receiving the \"Stop\" command you need to print all cars in your possession, sorted by their mileage in decscending order, then by their name in ascending order, in the following format:\n",
    "<br>\"{car} -> Mileage: {mileage} kms, Fuel in the tank: {fuel} lt.\""
   ]
  },
  {
   "cell_type": "markdown",
   "metadata": {},
   "source": [
    "### Input/Constraints\n",
    "* The mileage and fuel of the cars will be valid, 32-bit integers and will never be negative.\n",
    "* The fuel and distance amounts in the commands will never be negative.\n",
    "* The car names in the commands will always be valid cars in your possession."
   ]
  },
  {
   "cell_type": "markdown",
   "metadata": {},
   "source": [
    "### Output\n",
    "* All the output messages with the appropriate formats are described in the problem description."
   ]
  },
  {
   "cell_type": "code",
   "execution_count": 3,
   "metadata": {},
   "outputs": [
    {
     "name": "stdout",
     "output_type": "stream",
     "text": [
      "4\n",
      "Lamborghini Veneno|11111|74\n",
      "Bugatti Veyron|12345|67\n",
      "Koenigsegg CCXR|67890|12\n",
      "Aston Martin Valkryie|99900|50\n",
      "Drive : Koenigsegg CCXR : 382 : 82\n",
      "Not enough fuel to make that ride\n",
      "Drive : Aston Martin Valkryie : 99 : 23\n",
      "Aston Martin Valkryie driven for 99 kilometers. 23 liters of fuel consumed.\n",
      "Drive : Aston Martin Valkryie : 2 : 1\n",
      "Aston Martin Valkryie driven for 2 kilometers. 1 liters of fuel consumed.\n",
      "Time to sell the Aston Martin Valkryie!\n",
      "Refuel : Lamborghini Veneno : 40\n",
      "Lamborghini Veneno refueled with 1 liters\n",
      "Revert : Bugatti Veyron : 2000\n",
      "Bugatti Veyron mileage decreased by 2000 kilometers\n",
      "Stop\n",
      "Koenigsegg CCXR -> Mileage: 67890 kms, Fuel in the tank: 12 lt.\n",
      "Lamborghini Veneno -> Mileage: 11111 kms, Fuel in the tank: 75 lt.\n",
      "Bugatti Veyron -> Mileage: 10345 kms, Fuel in the tank: 67 lt.\n"
     ]
    }
   ],
   "source": [
    "def racers(count):\n",
    "    cars = {}\n",
    "    for n in range(count):\n",
    "        car, mileage, fuel = input().split(\"|\")\n",
    "        mileage = int(mileage)\n",
    "        fuel = int(fuel)\n",
    "        cars[car] = [mileage, fuel]\n",
    "    return cars\n",
    "\n",
    "\n",
    "def drive(car_racers, car, distance, fuel):\n",
    "    if car_racers[car][1] < fuel:\n",
    "        print(\"Not enough fuel to make that ride\")\n",
    "    else:\n",
    "        car_racers[car][1] -= fuel\n",
    "        car_racers[car][0] += distance\n",
    "        print(f\"{car} driven for {distance} kilometers. {fuel} liters of fuel consumed.\")\n",
    "        if car_racers[car][0] >= 100000:\n",
    "            print(f\"Time to sell the {car}!\")\n",
    "            car_racers.pop(car)\n",
    "    return car_racers\n",
    "\n",
    "\n",
    "def refuel(car_racers, car, fuel):\n",
    "    car_racers[car][1] += fuel\n",
    "    if car_racers[car][1] > 75:\n",
    "        refueled = 75 - (car_racers[car][1] - fuel)\n",
    "        car_racers[car][1] = 75\n",
    "    else:\n",
    "        refueled = fuel\n",
    "    print(f\"{car} refueled with {refueled} liters\")\n",
    "    return car_racers\n",
    "\n",
    "\n",
    "def revert(car_racers, car, kilometers):\n",
    "    car_racers[car][0] -= kilometers\n",
    "    if car_racers[car][0] < 10000:\n",
    "        car_racers[car][0] = 10000\n",
    "    else:\n",
    "        print(f\"{car} mileage decreased by {kilometers} kilometers\")\n",
    "    return car_racers\n",
    "\n",
    "\n",
    "racers_count = int(input())\n",
    "car_racers = racers(racers_count)\n",
    "\n",
    "while True:\n",
    "    command = input()\n",
    "    if command == \"Stop\":\n",
    "        break\n",
    "\n",
    "    command = command.split(\" : \")\n",
    "    action = command[0]\n",
    "    if action == \"Drive\":\n",
    "        car_racers = drive(car_racers, command[1], int(command[2]), int(command[3]))\n",
    "    elif action == \"Refuel\":\n",
    "        car_racers = refuel(car_racers, command[1], int(command[2]))\n",
    "    elif action == \"Revert\":\n",
    "        car_racers = revert(car_racers, command[1], int(command[2]))\n",
    "\n",
    "car_racers = dict(sorted(car_racers.items(), key=lambda x: (-x[1][0], x[0])))\n",
    "\n",
    "for key, value in car_racers.items():\n",
    "    print(f\"{key} -> Mileage: {car_racers[key][0]} kms, Fuel in the tank: {car_racers[key][1]} lt.\")"
   ]
  }
 ],
 "metadata": {
  "kernelspec": {
   "display_name": "Python 3",
   "language": "python",
   "name": "python3"
  },
  "language_info": {
   "codemirror_mode": {
    "name": "ipython",
    "version": 3
   },
   "file_extension": ".py",
   "mimetype": "text/x-python",
   "name": "python",
   "nbconvert_exporter": "python",
   "pygments_lexer": "ipython3",
   "version": "3.8.3"
  }
 },
 "nbformat": 4,
 "nbformat_minor": 4
}
